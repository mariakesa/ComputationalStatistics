{
 "cells": [
  {
   "cell_type": "markdown",
   "metadata": {},
   "source": [
    "Practice problems from https://projects.iq.harvard.edu/stat110/strategic-practice-problems"
   ]
  },
  {
   "cell_type": "markdown",
   "metadata": {},
   "source": [
    "# Problem Set 1"
   ]
  },
  {
   "cell_type": "markdown",
   "metadata": {},
   "source": [
    "Problem 1. \n",
    "\n",
    "How may ways are there to add up 1,2,3,4,5,6 (die outcomes) with four dice to 21 and 22?\n",
    "\n",
    "I treat it as a dynamic programming problem and create a recursion. https://www.coursera.org/learn/algorithmic-toolbox/lecture/GyYGv/change-problem"
   ]
  },
  {
   "cell_type": "code",
   "execution_count": 32,
   "metadata": {},
   "outputs": [
    {
     "name": "stdout",
     "output_type": "stream",
     "text": [
      "[ 4  5  5 ... 23 23 24]\n",
      "4\n",
      "4\n"
     ]
    }
   ],
   "source": [
    "import numpy as np\n",
    "dice=[1,2,3,4,5,6]\n",
    "\n",
    "sum_lst=[]\n",
    "#Brute force\n",
    "for j in range(0,6):\n",
    "    for i in range(0,6):\n",
    "        for k in range(0,6):\n",
    "            for m in range(0,6):\n",
    "                sum_=dice[j]+dice[i]+dice[k]+dice[m]\n",
    "                sum_lst.append(sum_)\n",
    "print(np.sort(sum_lst))\n",
    "print(np.sum(sum_lst[sum_lst==21]))\n",
    "print(np.sum(sum_lst[sum_lst==22]))"
   ]
  },
  {
   "cell_type": "code",
   "execution_count": 35,
   "metadata": {},
   "outputs": [
    {
     "name": "stdout",
     "output_type": "stream",
     "text": [
      "4\n"
     ]
    }
   ],
   "source": [
    "class Node():\n",
    "    def __init__(self,label,n_children,n_levels):\n",
    "        self.level=n_levels\n",
    "        self.label=label\n",
    "        self.children=[]\n",
    "        if n_levels>0:\n",
    "            for i in range(1,n_children+1):\n",
    "                self.children.append(Node(i,n_children,n_levels-1))\n",
    "            \n",
    "tree=Node(1,6,3)\n",
    "lst=[]\n",
    "def rec(node,dice_sum):\n",
    "    #print(node.level,node.label,dice_sum+node.label)\n",
    "    for child in node.children:\n",
    "        rec(child,dice_sum+node.label)\n",
    "    if node.children==[]:\n",
    "        lst.append(dice_sum+node.label)\n",
    "        #print(dice_sum+node.label)\n",
    "        \n",
    "        \n",
    "                \n",
    "rec(tree,0)\n",
    "print(lst[lst==22])\n",
    "    "
   ]
  }
 ],
 "metadata": {
  "kernelspec": {
   "display_name": "Python 3",
   "language": "python",
   "name": "python3"
  },
  "language_info": {
   "codemirror_mode": {
    "name": "ipython",
    "version": 3
   },
   "file_extension": ".py",
   "mimetype": "text/x-python",
   "name": "python",
   "nbconvert_exporter": "python",
   "pygments_lexer": "ipython3",
   "version": "3.7.4"
  }
 },
 "nbformat": 4,
 "nbformat_minor": 2
}
