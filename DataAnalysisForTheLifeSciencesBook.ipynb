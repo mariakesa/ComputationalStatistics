{
 "cells": [
  {
   "cell_type": "markdown",
   "metadata": {},
   "source": [
    "This notebook ports the R code from Rafael Irizarry's book \"Data Analysis for the Life Sciences\"."
   ]
  },
  {
   "cell_type": "markdown",
   "metadata": {},
   "source": [
    "# Inference"
   ]
  },
  {
   "cell_type": "code",
   "execution_count": 35,
   "metadata": {},
   "outputs": [
    {
     "name": "stdout",
     "output_type": "stream",
     "text": [
      "     Bodyweight\n",
      "153       20.30\n",
      "193       28.26\n",
      "194       23.30\n",
      "17        27.92\n",
      "10        19.24\n",
      "215       23.95\n",
      "159       23.54\n",
      "130       28.07\n",
      "27        19.87\n",
      "167       28.46\n",
      "199       25.40\n",
      "204       22.95\n",
      "     Bodyweight\n",
      "60        26.85\n",
      "42        24.10\n",
      "154       19.96\n",
      "41        20.53\n",
      "65        23.59\n",
      "155       19.07\n",
      "190       33.81\n",
      "130       28.07\n",
      "19        19.88\n",
      "47        21.55\n",
      "200       26.75\n",
      "219       27.36\n",
      "Bodyweight    0.754167\n",
      "dtype: float64\n"
     ]
    }
   ],
   "source": [
    "import pandas as pd\n",
    "import numpy as np\n",
    "import matplotlib.pyplot as plt\n",
    "%matplotlib inline\n",
    "from scipy.stats import norm\n",
    "\n",
    "population=pd.read_csv('/home/maria/Documents/ComputationalStatistics/femaleControlsPopulation.csv',header=0)\n",
    "print(control)\n",
    "control=population.sample(12)\n",
    "print(control)\n",
    "treatment=population.sample(12)\n",
    "print(np.mean(control)-np.mean(treatment))\n",
    "obs_diff=np.mean(control)-np.mean(treatment)"
   ]
  },
  {
   "cell_type": "code",
   "execution_count": 22,
   "metadata": {
    "scrolled": true
   },
   "outputs": [
    {
     "name": "stdout",
     "output_type": "stream",
     "text": [
      "0.08\n"
     ]
    }
   ],
   "source": [
    "diff_lst=[]\n",
    "for j in range(0,100):\n",
    "    control=population.sample(12).squeeze()\n",
    "    treatment=population.sample(12).squeeze()\n",
    "    diff_lst.append(np.mean(control)-np.mean(treatment))\n",
    "#plt.hist(diff_lst)\n",
    "print(np.mean(np.array(diff_lst).flatten()>=float(obs_diff)))"
   ]
  },
  {
   "cell_type": "code",
   "execution_count": 30,
   "metadata": {},
   "outputs": [
    {
     "name": "stdout",
     "output_type": "stream",
     "text": [
      "Bodyweight    1.361667\n",
      "dtype: float64\n",
      "1.269743550879468\n"
     ]
    }
   ],
   "source": [
    "print(obs_diff)\n",
    "print(np.std(diff_lst))"
   ]
  },
  {
   "cell_type": "code",
   "execution_count": 34,
   "metadata": {},
   "outputs": [
    {
     "data": {
      "text/plain": [
       "0.1525565248664322"
      ]
     },
     "execution_count": 34,
     "metadata": {},
     "output_type": "execute_result"
    }
   ],
   "source": [
    "norm.pdf(float(obs_diff),loc=np.mean(diff_lst),scale=np.std(diff_lst))"
   ]
  },
  {
   "cell_type": "code",
   "execution_count": 39,
   "metadata": {},
   "outputs": [
    {
     "name": "stdout",
     "output_type": "stream",
     "text": [
      "    Sex  Diet  Bodyweight\n",
      "25    F  chow       27.03\n",
      "26    F  chow       24.80\n",
      "27    F  chow       27.02\n",
      "28    F  chow       28.07\n",
      "29    F  chow       23.55\n",
      "..   ..   ...         ...\n",
      "816   M  chow       27.90\n",
      "817   M  chow       31.57\n",
      "818   M  chow       26.09\n",
      "819   M  chow       23.14\n",
      "820   M  chow       31.28\n",
      "\n",
      "[449 rows x 3 columns]\n",
      "    Sex Diet  Bodyweight\n",
      "0     F   hf       31.94\n",
      "1     F   hf       32.48\n",
      "2     F   hf       22.82\n",
      "3     F   hf       19.92\n",
      "4     F   hf       32.22\n",
      "..   ..  ...         ...\n",
      "841   M   hf       36.43\n",
      "842   M   hf       24.09\n",
      "843   M   hf       32.18\n",
      "844   M   hf       34.14\n",
      "845   M   hf       41.82\n",
      "\n",
      "[397 rows x 3 columns]\n"
     ]
    }
   ],
   "source": [
    "dat=pd.read_csv('/home/maria/Documents/ComputationalStatistics/mice_pheno.csv',header=0)\n",
    "\n",
    "controlPopulation=dat[dat['Diet']=='chow']\n",
    "print(controlPopulation)\n",
    "hfPopulation=dat[dat['Diet']=='hf']\n",
    "print(hfPopulation)"
   ]
  },
  {
   "cell_type": "code",
   "execution_count": 41,
   "metadata": {},
   "outputs": [
    {
     "name": "stdout",
     "output_type": "stream",
     "text": [
      "28.847049940546942\n"
     ]
    }
   ],
   "source": [
    "mean_control=pd.DataFrame.mean(dat['Bodyweight'])\n",
    "print(mean_control)\n",
    "mean_hf=pd.DataFrame.m"
   ]
  }
 ],
 "metadata": {
  "kernelspec": {
   "display_name": "Python 3",
   "language": "python",
   "name": "python3"
  },
  "language_info": {
   "codemirror_mode": {
    "name": "ipython",
    "version": 3
   },
   "file_extension": ".py",
   "mimetype": "text/x-python",
   "name": "python",
   "nbconvert_exporter": "python",
   "pygments_lexer": "ipython3",
   "version": "3.7.4"
  }
 },
 "nbformat": 4,
 "nbformat_minor": 2
}
