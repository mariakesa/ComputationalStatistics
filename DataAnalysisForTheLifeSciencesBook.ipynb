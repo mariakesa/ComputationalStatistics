{
 "cells": [
  {
   "cell_type": "markdown",
   "metadata": {},
   "source": [
    "This notebook ports the R code from Rafael Irizarry's book \"Data Analysis for the Life Sciences\"."
   ]
  },
  {
   "cell_type": "markdown",
   "metadata": {},
   "source": [
    "# Inference"
   ]
  },
  {
   "cell_type": "code",
   "execution_count": 5,
   "metadata": {},
   "outputs": [
    {
     "name": "stdout",
     "output_type": "stream",
     "text": [
      "     Bodyweight\n",
      "112       24.96\n",
      "46        27.25\n",
      "221       26.58\n",
      "106       24.49\n",
      "47        21.55\n",
      "170       28.43\n",
      "75        22.19\n",
      "141       25.97\n",
      "100       26.37\n",
      "74        24.60\n",
      "111       33.47\n",
      "64        21.32\n",
      "     Bodyweight\n",
      "53        22.12\n",
      "20        20.72\n",
      "29        31.83\n",
      "25        20.52\n",
      "139       19.44\n",
      "208       33.36\n",
      "131       24.46\n",
      "36        36.84\n",
      "17        27.92\n",
      "176       23.80\n",
      "210       24.21\n",
      "9         26.60\n",
      "Bodyweight    1.405833\n",
      "dtype: float64\n"
     ]
    }
   ],
   "source": [
    "import pandas as pd\n",
    "import numpy as np\n",
    "import matplotlib.pyplot as plt\n",
    "%matplotlib inline\n",
    "\n",
    "population=pd.read_csv('/home/maria/Documents/ComputationalStatistics/femaleControlsPopulation.csv',header=0)\n",
    "print(control)\n",
    "control=population.sample(12)\n",
    "print(control)\n",
    "treatment=population.sample(12)\n",
    "print(np.mean(control)-np.mean(treatment))\n",
    "obs_diff=np.mean(control)-np.mean(treatment)"
   ]
  },
  {
   "cell_type": "code",
   "execution_count": 22,
   "metadata": {
    "scrolled": true
   },
   "outputs": [
    {
     "name": "stdout",
     "output_type": "stream",
     "text": [
      "0.08\n"
     ]
    }
   ],
   "source": [
    "diff_lst=[]\n",
    "for j in range(0,100):\n",
    "    control=population.sample(12).squeeze()\n",
    "    treatment=population.sample(12).squeeze()\n",
    "    diff_lst.append(np.mean(control)-np.mean(treatment))\n",
    "#plt.hist(diff_lst)\n",
    "print(np.mean(np.array(diff_lst).flatten()>=float(obs_diff)))"
   ]
  }
 ],
 "metadata": {
  "kernelspec": {
   "display_name": "Python 3",
   "language": "python",
   "name": "python3"
  },
  "language_info": {
   "codemirror_mode": {
    "name": "ipython",
    "version": 3
   },
   "file_extension": ".py",
   "mimetype": "text/x-python",
   "name": "python",
   "nbconvert_exporter": "python",
   "pygments_lexer": "ipython3",
   "version": "3.7.4"
  }
 },
 "nbformat": 4,
 "nbformat_minor": 2
}
