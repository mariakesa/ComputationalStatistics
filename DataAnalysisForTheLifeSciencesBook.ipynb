{
 "cells": [
  {
   "cell_type": "markdown",
   "metadata": {},
   "source": [
    "This notebook ports the R code from Rafael Irizarry's book \"Data Analysis for the Life Sciences\"."
   ]
  },
  {
   "cell_type": "markdown",
   "metadata": {},
   "source": [
    "# Inference"
   ]
  },
  {
   "cell_type": "code",
   "execution_count": 24,
   "metadata": {},
   "outputs": [
    {
     "name": "stdout",
     "output_type": "stream",
     "text": [
      "25     20.52\n",
      "153    20.30\n",
      "33     29.60\n",
      "165    22.91\n",
      "95     16.82\n",
      "218    24.96\n",
      "57     22.00\n",
      "177    20.99\n",
      "126    23.88\n",
      "181    18.47\n",
      "183    25.83\n",
      "136    22.51\n",
      "Name: Bodyweight, dtype: float64\n",
      "     Bodyweight\n",
      "153       20.30\n",
      "193       28.26\n",
      "194       23.30\n",
      "17        27.92\n",
      "10        19.24\n",
      "215       23.95\n",
      "159       23.54\n",
      "130       28.07\n",
      "27        19.87\n",
      "167       28.46\n",
      "199       25.40\n",
      "204       22.95\n",
      "Bodyweight    1.361667\n",
      "dtype: float64\n"
     ]
    }
   ],
   "source": [
    "import pandas as pd\n",
    "import numpy as np\n",
    "import matplotlib.pyplot as plt\n",
    "%matplotlib inline\n",
    "from scipy.stats import norm\n",
    "\n",
    "population=pd.read_csv('/home/maria/Documents/ComputationalStatistics/femaleControlsPopulation.csv',header=0)\n",
    "print(control)\n",
    "control=population.sample(12)\n",
    "print(control)\n",
    "treatment=population.sample(12)\n",
    "print(np.mean(control)-np.mean(treatment))\n",
    "obs_diff=np.mean(control)-np.mean(treatment)"
   ]
  },
  {
   "cell_type": "code",
   "execution_count": 22,
   "metadata": {
    "scrolled": true
   },
   "outputs": [
    {
     "name": "stdout",
     "output_type": "stream",
     "text": [
      "0.08\n"
     ]
    }
   ],
   "source": [
    "diff_lst=[]\n",
    "for j in range(0,100):\n",
    "    control=population.sample(12).squeeze()\n",
    "    treatment=population.sample(12).squeeze()\n",
    "    diff_lst.append(np.mean(control)-np.mean(treatment))\n",
    "#plt.hist(diff_lst)\n",
    "print(np.mean(np.array(diff_lst).flatten()>=float(obs_diff)))"
   ]
  },
  {
   "cell_type": "code",
   "execution_count": null,
   "metadata": {},
   "outputs": [],
   "source": [
    "print(obs)"
   ]
  },
  {
   "cell_type": "code",
   "execution_count": 27,
   "metadata": {},
   "outputs": [
    {
     "data": {
      "text/plain": [
       "nan"
      ]
     },
     "execution_count": 27,
     "metadata": {},
     "output_type": "execute_result"
    }
   ],
   "source": [
    "1 - norm.ppf(float(obs_diff),np.mean(diff_lst),np.std(diff_lst))"
   ]
  }
 ],
 "metadata": {
  "kernelspec": {
   "display_name": "Python 3",
   "language": "python",
   "name": "python3"
  },
  "language_info": {
   "codemirror_mode": {
    "name": "ipython",
    "version": 3
   },
   "file_extension": ".py",
   "mimetype": "text/x-python",
   "name": "python",
   "nbconvert_exporter": "python",
   "pygments_lexer": "ipython3",
   "version": "3.7.4"
  }
 },
 "nbformat": 4,
 "nbformat_minor": 2
}
