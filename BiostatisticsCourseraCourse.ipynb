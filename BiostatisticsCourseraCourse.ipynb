{
 "cells": [
  {
   "cell_type": "markdown",
   "metadata": {},
   "source": [
    "# Week 1"
   ]
  },
  {
   "cell_type": "markdown",
   "metadata": {},
   "source": [
    "Let's try to model a clinical trial probabilistically.\n",
    "\n",
    "https://explorer.opentrials.net/trials/db245d12-20af-11e7-8c40-0242ac12000f\n",
    "\n",
    "Background and study aims People often experience distressing worries about other people intentionally causing harm, also known as paranoia. Paranoia is one of the most common symptoms of severe mental health problems and is associated with marked distress and disruption to people’s lives. Paranoia tends to be associated with certain thinking habits, called “fast thinking”. Everybody thinks fast and this can be helpful in some situations. At other times, fast thinking may contribute to feeling more stressed than we need to be. SlowMo is a therapy service which has been developed by service users, designers, researchers and clinicians to support people to notice their upsetting worries and fast thinking habits, and then provides tips to help them slow down for a moment to notice new information and safer thoughts. The aim of this study is to find out whether SlowMo reduces paranoia. The study will also investigate how SlowMo works (do changes in fast thinking reduce worries about others) and whether differences in beliefs, memory, and motivation influence this. Who can participate? Adults who have had distressing paranoia for at least three months. What does the study involve? Participants are randomly allocated to one of two groups. Those in the first group take part in the SlowMo programme in addition to receiving usual care. This involves eight individual, face-to-face sessions with a trained therapist, which are supported by a website with interactive stories and games. The programme helps people to find out how fast thinking habits can contribute to upsetting thoughts, and try out tips to learn what helps them slow down their thinking and cope with worries. The first two sessions involve learning that worries about others and fast thinking are common, and developing an individualised understanding of the person’s thoughts and thinking habits. The remaining six sessions deal with learning and trying out tips to slow down thoughts. Those in the second group receive usual care only, as they would if they weren’t taking part in the study. At the start of the study and then after 12 and 24 weeks, participants complete a number of questionnaires to assess their paranoia and related symptoms as well as their mental wellbeing. What are the possible benefits and risks of participating? It is hoped that those receiving SlowMo will find it helpful. However, this cannot be guaranteed. Those who do not receive SlowMo will not be given a phone with the SlowMo app but will be reimbursed for their time. The information from all participants may help to support others with similar problems. If SlowMo is shown to work, then the plan would be for it to be more widely available in NHS services in the future. There are no anticipated risks involved with participating. However, as standard practice, the university sponsoring the research has insurance arrangements in place to provide for any harm arising from taking part if it were to occur. NHS indemnity (insurance) operates in respect of the therapy that is provided. Where is the study run from? 1. South London and Maudsley NHS Foundation Trust (UK) 2. Oxford Health NHS Foundation Trust (UK) 3. Sussex Partnership NHS Foundation Trust (UK) When is the study starting and how long is it expected to run for? July 2015 to August 2019 Who is funding the study? Efficacy and Mechanism Evaluation Programme (UK) Who is the main contact? Dr Thomas Ward thomas.ward@kcl.ac.uk"
   ]
  },
  {
   "cell_type": "markdown",
   "metadata": {},
   "source": [
    "If you treat this intervention as a probabilistic experiment, what are the possible outcomes?\n",
    "What are the random variables in the study?\n"
   ]
  }
 ],
 "metadata": {
  "kernelspec": {
   "display_name": "Python 3",
   "language": "python",
   "name": "python3"
  },
  "language_info": {
   "codemirror_mode": {
    "name": "ipython",
    "version": 3
   },
   "file_extension": ".py",
   "mimetype": "text/x-python",
   "name": "python",
   "nbconvert_exporter": "python",
   "pygments_lexer": "ipython3",
   "version": "3.7.4"
  }
 },
 "nbformat": 4,
 "nbformat_minor": 2
}
