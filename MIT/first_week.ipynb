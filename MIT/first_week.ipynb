{
 "cells": [
  {
   "cell_type": "code",
   "execution_count": 37,
   "metadata": {},
   "outputs": [
    {
     "name": "stdout",
     "output_type": "stream",
     "text": [
      "[2, 3, 5, 7, 11, 13, 17, 19, 23, 29, 31, 37, 41, 43, 47]\n",
      "range(2, 21, 2)\n",
      "2\n",
      "4\n",
      "6\n",
      "8\n",
      "10\n",
      "12\n",
      "14\n",
      "16\n",
      "18\n",
      "20\n",
      "20\n"
     ]
    }
   ],
   "source": [
    "def sieve_of_eratosthenes(limit):\n",
    "    primes = []\n",
    "    is_prime = [True] * (limit + 1)\n",
    "    is_prime[0] = is_prime[1] = False  # 0 and 1 are not prime\n",
    "\n",
    "    for p in range(2, limit + 1):\n",
    "        if is_prime[p]:\n",
    "            primes.append(p)\n",
    "            for multiple in range(p * p, limit + 1, p):\n",
    "                is_prime[multiple] = False\n",
    "\n",
    "    return primes\n",
    "\n",
    "# Generate primes up to 50\n",
    "print(sieve_of_eratosthenes(50))\n",
    "primes=sieve_of_eratosthenes(50)\n",
    "primes2=sieve_of_eratosthenes(20)\n",
    "len(primes2)\n",
    "len(range(2,21,2))\n",
    "print(range(2,21,2))\n",
    "x=range(2,21,2)\n",
    "for i in x:\n",
    "    print(i)\n",
    "print(len(range(1,21,1)))"
   ]
  },
  {
   "cell_type": "code",
   "execution_count": null,
   "metadata": {},
   "outputs": [],
   "source": []
  },
  {
   "cell_type": "code",
   "execution_count": 16,
   "metadata": {},
   "outputs": [
    {
     "name": "stdout",
     "output_type": "stream",
     "text": [
      "36\n",
      "15\n"
     ]
    }
   ],
   "source": [
    "import numpy as np\n",
    "base=sums=[1 for i in range(1,7) for j in range(1,7)]\n",
    "print(len(base))    \n",
    "sums=[i+j for i in range(1,7) for j in range(1,7)]\n",
    "sums\n",
    "n_primes=len([i for i in sums if i in primes])\n",
    "print(n_primes)"
   ]
  },
  {
   "cell_type": "code",
   "execution_count": 19,
   "metadata": {},
   "outputs": [
    {
     "name": "stdout",
     "output_type": "stream",
     "text": [
      "6\n",
      "0.4166666666666667 0.5\n"
     ]
    }
   ],
   "source": [
    "exp_alice=(15/36)*1\n",
    "ns=[1 for i in range(1,7) for j in range(1,7) if i==j]\n",
    "print(sum(ns))\n",
    "exp_bob=(6/36)*3\n",
    "print(exp_alice,exp_bob)"
   ]
  },
  {
   "cell_type": "code",
   "execution_count": 24,
   "metadata": {},
   "outputs": [
    {
     "name": "stdout",
     "output_type": "stream",
     "text": [
      "Counter({7: 6, 6: 5, 8: 5, 5: 4, 9: 4, 4: 3, 10: 3, 3: 2, 11: 2, 2: 1, 12: 1})\n"
     ]
    },
    {
     "data": {
      "image/png": "[encoded data removed]",
      "text/plain": [
       "<Figure size 640x480 with 1 Axes>"
      ]
     },
     "metadata": {},
     "output_type": "display_data"
    }
   ],
   "source": [
    "from collections import Counter\n",
    "import matplotlib.pyplot as plt\n",
    "\n",
    "sums = [i + j for i in range(1, 7) for j in range(1, 7)]\n",
    "counts = Counter(sums)\n",
    "\n",
    "# Print the counts\n",
    "print(counts)\n",
    "\n",
    "# Plot the histogram\n",
    "plt.hist(sums, bins=range(min(sums), max(sums) + 2), align='left', edgecolor='black')\n",
    "plt.xlabel('Sum')\n",
    "plt.ylabel('Frequency')\n",
    "plt.title('Histogram of Sums')\n",
    "plt.show()"
   ]
  },
  {
   "cell_type": "code",
   "execution_count": 28,
   "metadata": {},
   "outputs": [
    {
     "data": {
      "text/plain": [
       "126.0"
      ]
     },
     "execution_count": 28,
     "metadata": {},
     "output_type": "execute_result"
    }
   ],
   "source": [
    "(1-(1/2)**6)*128"
   ]
  }
 ],
 "metadata": {
  "kernelspec": {
   "display_name": ".venv",
   "language": "python",
   "name": "python3"
  },
  "language_info": {
   "codemirror_mode": {
    "name": "ipython",
    "version": 3
   },
   "file_extension": ".py",
   "mimetype": "text/x-python",
   "name": "python",
   "nbconvert_exporter": "python",
   "pygments_lexer": "ipython3",
   "version": "3.12.3"
  }
 },
 "nbformat": 4,
 "nbformat_minor": 2
}
